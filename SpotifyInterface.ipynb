{
 "cells": [
  {
   "cell_type": "code",
   "execution_count": 1,
   "id": "96e69230-8272-4ca8-876c-854d49e698d6",
   "metadata": {},
   "outputs": [],
   "source": [
    "import spotipy\n",
    "import json\n",
    "import webbrowser\n",
    "import urllib.request\n",
    "import spotipy.util as util"
   ]
  },
  {
   "cell_type": "code",
   "execution_count": 3,
   "id": "8fafca5e-abd0-48d7-b501-8053b3154661",
   "metadata": {},
   "outputs": [],
   "source": [
    "# weather_file is a variable name representing my file\n",
    "with open('weather_key.txt', 'r') as weather_file:\n",
    "    weather_key = weather_file.read()\n"
   ]
  },
  {
   "cell_type": "code",
   "execution_count": 4,
   "id": "f2d7c2c9-b4fc-4c6a-8c2c-2a1be12becb3",
   "metadata": {},
   "outputs": [],
   "source": [
    "url = f\"http://api.weatherapi.com/v1/current.json?key={weather_key}&q=London&aqi=no\""
   ]
  },
  {
   "cell_type": "code",
   "execution_count": 5,
   "id": "f49a77b3-4c05-49a1-9ede-5440708a244f",
   "metadata": {},
   "outputs": [],
   "source": [
    "# sending our url to the interwebs\n",
    "request = urllib.request.Request(url)\n",
    "# capture all the JSON coming back from the interwebs\n",
    "response = urllib.request.urlopen(request)"
   ]
  },
  {
   "cell_type": "code",
   "execution_count": 6,
   "id": "a3b888d1-d99f-4598-960f-f61299d81da0",
   "metadata": {},
   "outputs": [
    {
     "name": "stdout",
     "output_type": "stream",
     "text": [
      "<http.client.HTTPResponse object at 0x000001806A6E7BE0>\n"
     ]
    }
   ],
   "source": [
    "print(response)"
   ]
  },
  {
   "cell_type": "code",
   "execution_count": null,
   "id": "c597dc1b-4470-41af-b31c-6d274ee5772d",
   "metadata": {},
   "outputs": [],
   "source": [
    "# pull out the JSON from the response object\n"
   ]
  }
 ],
 "metadata": {
  "kernelspec": {
   "display_name": "Python 3 (ipykernel)",
   "language": "python",
   "name": "python3"
  },
  "language_info": {
   "codemirror_mode": {
    "name": "ipython",
    "version": 3
   },
   "file_extension": ".py",
   "mimetype": "text/x-python",
   "name": "python",
   "nbconvert_exporter": "python",
   "pygments_lexer": "ipython3",
   "version": "3.10.6"
  }
 },
 "nbformat": 4,
 "nbformat_minor": 5
}
