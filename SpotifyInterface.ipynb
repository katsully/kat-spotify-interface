{
 "cells": [
  {
   "cell_type": "code",
   "execution_count": 1,
   "id": "96e69230-8272-4ca8-876c-854d49e698d6",
   "metadata": {},
   "outputs": [],
   "source": [
    "import spotipy\n",
    "import json\n",
    "import webbrowser\n",
    "import urllib.request\n",
    "import spotipy.util as util"
   ]
  },
  {
   "cell_type": "code",
   "execution_count": 3,
   "id": "8fafca5e-abd0-48d7-b501-8053b3154661",
   "metadata": {},
   "outputs": [],
   "source": [
    "# weather_file is a variable name representing my file\n",
    "with open('weather_key.txt', 'r') as weather_file:\n",
    "    weather_key = weather_file.read()\n"
   ]
  },
  {
   "cell_type": "code",
   "execution_count": 4,
   "id": "f2d7c2c9-b4fc-4c6a-8c2c-2a1be12becb3",
   "metadata": {},
   "outputs": [],
   "source": [
    "url = f\"http://api.weatherapi.com/v1/current.json?key={weather_key}&q=London&aqi=no\""
   ]
  },
  {
   "cell_type": "code",
   "execution_count": 12,
   "id": "f49a77b3-4c05-49a1-9ede-5440708a244f",
   "metadata": {},
   "outputs": [],
   "source": [
    "# sending our url to the interwebs\n",
    "request = urllib.request.Request(url)\n",
    "# capture all the JSON coming back from the interwebs\n",
    "response = urllib.request.urlopen(request)"
   ]
  },
  {
   "cell_type": "code",
   "execution_count": 6,
   "id": "a3b888d1-d99f-4598-960f-f61299d81da0",
   "metadata": {},
   "outputs": [
    {
     "name": "stdout",
     "output_type": "stream",
     "text": [
      "<http.client.HTTPResponse object at 0x000001806A6E7BE0>\n"
     ]
    }
   ],
   "source": [
    "print(response)"
   ]
  },
  {
   "cell_type": "code",
   "execution_count": 13,
   "id": "c597dc1b-4470-41af-b31c-6d274ee5772d",
   "metadata": {},
   "outputs": [],
   "source": [
    "# pull out the JSON from the response object\n",
    "# loads converts a JSON string into a python dictionary\n",
    "weather_json = json.loads(response.read())"
   ]
  },
  {
   "cell_type": "code",
   "execution_count": 15,
   "id": "e7884ec2-a5a5-466a-8a70-2212d16804fd",
   "metadata": {},
   "outputs": [
    {
     "name": "stdout",
     "output_type": "stream",
     "text": [
      "Overcast\n"
     ]
    }
   ],
   "source": [
    "forecast = weather_json['current']['condition']['text']\n",
    "print(forecast)"
   ]
  },
  {
   "cell_type": "code",
   "execution_count": 18,
   "id": "eede70fd-8fe9-4f16-aaa9-8e04c04d8635",
   "metadata": {},
   "outputs": [],
   "source": [
    "# open my spotify_keys and read them\n",
    "# 'r' is for read (ie we aren't writing to this file!)\n",
    "# spotify_file is a variable name and represents the file with our spotify\n",
    "# keys\n",
    "with open('spotify_keys.json', 'r') as spotify_file:\n",
    "    # load reads a JSON string from a file\n",
    "    tokens = json.load(spotify_file)"
   ]
  },
  {
   "cell_type": "code",
   "execution_count": 20,
   "id": "7aba193b-6120-4396-b279-4e8e89b85bfa",
   "metadata": {},
   "outputs": [],
   "source": [
    "my_client_id = tokens['client_id']\n",
    "my_client_secret = tokens['client_secret']\n",
    "redirectURI = tokens['redirect']\n",
    "username = tokens['username']"
   ]
  },
  {
   "cell_type": "code",
   "execution_count": 21,
   "id": "263d93e1-bede-4a3b-9753-11049e54cdeb",
   "metadata": {},
   "outputs": [
    {
     "name": "stdin",
     "output_type": "stream",
     "text": [
      "Enter the URL you were redirected to:  https://www.google.com/?code=AQB-f6tIcKi8ryYP8lDets_Ki5muEOLYcTgmpyqVirARncwICP78ydu92cwy9cKl3eHCuNvhzgLlqwAIIE68wPJ2woPpm_TBqEpy2ZE0YWmWEwThF-LRpRG3cyGBUPwa_4zPs_iBQsHwlI21KB6iqsJNBwUtwHJ4Rt87CjGKVbhb-TZvFLzb-TyppSOpMImEbMCWqq9xRUYt9FrFRbvHZOVe4gkEfjcHl9q9-_cbgBBAqB06_0hDudu7blRnTldv6Hbd-xLEt5-Fa0wQVPQuE3iCYbd50RA\n"
     ]
    }
   ],
   "source": [
    "# https://developer.spotify.com/documentation/web-api/concepts/scopes\n",
    "# left side of the = sign comes from the library\n",
    "# right side of the = sign is my variable\n",
    "scope = \"user-read-private user-read-playback-state user-modify-playback-state playlist-modify-public\"\n",
    "token = util.prompt_for_user_token(username, scope, client_id=my_client_id, client_secret=my_client_secret, redirect_uri=redirectURI)"
   ]
  },
  {
   "cell_type": "code",
   "execution_count": null,
   "id": "3f095ec9-c110-45ef-a1dd-18028bfb1009",
   "metadata": {},
   "outputs": [],
   "source": []
  }
 ],
 "metadata": {
  "kernelspec": {
   "display_name": "Python 3 (ipykernel)",
   "language": "python",
   "name": "python3"
  },
  "language_info": {
   "codemirror_mode": {
    "name": "ipython",
    "version": 3
   },
   "file_extension": ".py",
   "mimetype": "text/x-python",
   "name": "python",
   "nbconvert_exporter": "python",
   "pygments_lexer": "ipython3",
   "version": "3.10.6"
  }
 },
 "nbformat": 4,
 "nbformat_minor": 5
}
