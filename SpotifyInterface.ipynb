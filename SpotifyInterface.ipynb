{
 "cells": [
  {
   "cell_type": "code",
   "execution_count": 1,
   "id": "96e69230-8272-4ca8-876c-854d49e698d6",
   "metadata": {},
   "outputs": [],
   "source": [
    "import spotipy\n",
    "import json\n",
    "import webbrowser\n",
    "import urllib.request\n",
    "import spotipy.util as util"
   ]
  },
  {
   "cell_type": "code",
   "execution_count": 3,
   "id": "8fafca5e-abd0-48d7-b501-8053b3154661",
   "metadata": {},
   "outputs": [],
   "source": [
    "# weather_file is a variable name representing my file\n",
    "with open('weather_key.txt', 'r') as weather_file:\n",
    "    weather_key = weather_file.read()\n"
   ]
  },
  {
   "cell_type": "code",
   "execution_count": 4,
   "id": "f2d7c2c9-b4fc-4c6a-8c2c-2a1be12becb3",
   "metadata": {},
   "outputs": [],
   "source": [
    "url = f\"http://api.weatherapi.com/v1/current.json?key={weather_key}&q=London&aqi=no\""
   ]
  },
  {
   "cell_type": "code",
   "execution_count": 12,
   "id": "f49a77b3-4c05-49a1-9ede-5440708a244f",
   "metadata": {},
   "outputs": [],
   "source": [
    "# sending our url to the interwebs\n",
    "request = urllib.request.Request(url)\n",
    "# capture all the JSON coming back from the interwebs\n",
    "response = urllib.request.urlopen(request)"
   ]
  },
  {
   "cell_type": "code",
   "execution_count": 6,
   "id": "a3b888d1-d99f-4598-960f-f61299d81da0",
   "metadata": {},
   "outputs": [
    {
     "name": "stdout",
     "output_type": "stream",
     "text": [
      "<http.client.HTTPResponse object at 0x000001806A6E7BE0>\n"
     ]
    }
   ],
   "source": [
    "print(response)"
   ]
  },
  {
   "cell_type": "code",
   "execution_count": 13,
   "id": "c597dc1b-4470-41af-b31c-6d274ee5772d",
   "metadata": {},
   "outputs": [],
   "source": [
    "# pull out the JSON from the response object\n",
    "# loads converts a JSON string into a python dictionary\n",
    "weather_json = json.loads(response.read())"
   ]
  },
  {
   "cell_type": "code",
   "execution_count": 15,
   "id": "e7884ec2-a5a5-466a-8a70-2212d16804fd",
   "metadata": {},
   "outputs": [
    {
     "name": "stdout",
     "output_type": "stream",
     "text": [
      "Overcast\n"
     ]
    }
   ],
   "source": [
    "forecast = weather_json['current']['condition']['text']\n",
    "print(forecast)"
   ]
  },
  {
   "cell_type": "code",
   "execution_count": 18,
   "id": "eede70fd-8fe9-4f16-aaa9-8e04c04d8635",
   "metadata": {},
   "outputs": [],
   "source": [
    "# open my spotify_keys and read them\n",
    "# 'r' is for read (ie we aren't writing to this file!)\n",
    "# spotify_file is a variable name and represents the file with our spotify\n",
    "# keys\n",
    "with open('spotify_keys.json', 'r') as spotify_file:\n",
    "    # load reads a JSON string from a file\n",
    "    tokens = json.load(spotify_file)"
   ]
  },
  {
   "cell_type": "code",
   "execution_count": 20,
   "id": "7aba193b-6120-4396-b279-4e8e89b85bfa",
   "metadata": {},
   "outputs": [],
   "source": [
    "my_client_id = tokens['client_id']\n",
    "my_client_secret = tokens['client_secret']\n",
    "redirectURI = tokens['redirect']\n",
    "username = tokens['username']"
   ]
  },
  {
   "cell_type": "code",
   "execution_count": 42,
   "id": "263d93e1-bede-4a3b-9753-11049e54cdeb",
   "metadata": {},
   "outputs": [
    {
     "name": "stdin",
     "output_type": "stream",
     "text": [
      "Enter the URL you were redirected to:  https://www.google.com/?code=AQCfpvy9UIijBDhfZqz6ns7Vn3L8rO0l6omy4PFuYRadNBuM5-DXij8Ggj2u6WBPOrQf4L6C1YCNkQy7UPafIp08QQr8JQT0NCgfg7TdCHshcrqWx_QFi4HUXHOXYwsMHdPhLZ9FBT3xdbb247anH5lKns99W6KTBKOMxXMHXzUxasLqSJZi98Xzzgti-4LC0iXD4VpZzfgUgvXAwmXpQtPD1Sj0YQ9nyn1B_CrUH386DbjWgmm4BJmYcNb-euRXL9TpVvrw-tVA2KFrzwOkpAVIxJg5Zek\n"
     ]
    }
   ],
   "source": [
    "# https://developer.spotify.com/documentation/web-api/concepts/scopes\n",
    "# left side of the = sign comes from the library\n",
    "# right side of the = sign is my variable\n",
    "scope = \"user-read-private user-read-playback-state user-modify-playback-state playlist-modify-public\"\n",
    "token = util.prompt_for_user_token(username, scope, client_id=my_client_id, client_secret=my_client_secret, redirect_uri=redirectURI)"
   ]
  },
  {
   "cell_type": "code",
   "execution_count": 43,
   "id": "3f095ec9-c110-45ef-a1dd-18028bfb1009",
   "metadata": {},
   "outputs": [],
   "source": [
    "# we are creating an object (sp) that can interact with the Spotify API\n",
    "sp = spotipy.Spotify(auth=token)"
   ]
  },
  {
   "cell_type": "code",
   "execution_count": 44,
   "id": "152c0634-fa54-47a0-94b9-fb7e8aec8600",
   "metadata": {},
   "outputs": [
    {
     "name": "stdout",
     "output_type": "stream",
     "text": [
      "{'devices': [{'id': '9d106a688b3c20aacb6d72ca13423873d8705bdb', 'is_active': False, 'is_private_session': False, 'is_restricted': False, 'name': 'LAPTOP-TI6LUTO2', 'supports_volume': True, 'type': 'Computer', 'volume_percent': 100}]}\n"
     ]
    }
   ],
   "source": [
    "devices = sp.devices()\n",
    "print(devices)"
   ]
  },
  {
   "cell_type": "code",
   "execution_count": 45,
   "id": "ce7bd0e7-15f4-4090-894e-76b045cd0451",
   "metadata": {},
   "outputs": [
    {
     "name": "stdout",
     "output_type": "stream",
     "text": [
      "9d106a688b3c20aacb6d72ca13423873d8705bdb\n"
     ]
    }
   ],
   "source": [
    "deviceID = devices['devices'][0]['id']\n",
    "print(deviceID)"
   ]
  },
  {
   "cell_type": "code",
   "execution_count": 46,
   "id": "6049bdc6-ba04-46bc-bf4e-33f448e75647",
   "metadata": {},
   "outputs": [],
   "source": [
    "# https://developer.spotify.com/documentation/web-api/reference/search\n",
    "track_results = sp.search(q=forecast, type='track', limit=50)"
   ]
  },
  {
   "cell_type": "code",
   "execution_count": 47,
   "id": "5efffecb-aa42-43eb-bac5-de2e9c07e5e6",
   "metadata": {},
   "outputs": [],
   "source": [
    "song_data = track_results['tracks']['items']"
   ]
  },
  {
   "cell_type": "code",
   "execution_count": 36,
   "id": "c908aac8-dc44-43ce-a41b-b7640b8b71af",
   "metadata": {},
   "outputs": [
    {
     "name": "stdout",
     "output_type": "stream",
     "text": [
      "{'album': {'album_type': 'single', 'artists': [{'external_urls': {'spotify': 'https://open.spotify.com/artist/3xi1oLL4AB1BfQBN9eZA8O'}, 'href': 'https://api.spotify.com/v1/artists/3xi1oLL4AB1BfQBN9eZA8O', 'id': '3xi1oLL4AB1BfQBN9eZA8O', 'name': 'Sylvio', 'type': 'artist', 'uri': 'spotify:artist:3xi1oLL4AB1BfQBN9eZA8O'}], 'available_markets': ['AR', 'AU', 'AT', 'BE', 'BO', 'BR', 'BG', 'CA', 'CL', 'CO', 'CR', 'CY', 'CZ', 'DK', 'DO', 'DE', 'EC', 'EE', 'SV', 'FI', 'FR', 'GR', 'GT', 'HN', 'HK', 'HU', 'IS', 'IE', 'IT', 'LV', 'LT', 'LU', 'MY', 'MT', 'MX', 'NL', 'NZ', 'NI', 'NO', 'PA', 'PY', 'PE', 'PH', 'PL', 'PT', 'SG', 'SK', 'ES', 'SE', 'CH', 'TW', 'TR', 'UY', 'US', 'GB', 'AD', 'LI', 'MC', 'ID', 'JP', 'TH', 'VN', 'RO', 'IL', 'ZA', 'SA', 'AE', 'BH', 'QA', 'OM', 'KW', 'EG', 'MA', 'DZ', 'TN', 'LB', 'JO', 'PS', 'IN', 'BY', 'KZ', 'MD', 'UA', 'AL', 'BA', 'HR', 'ME', 'MK', 'RS', 'SI', 'KR', 'BD', 'PK', 'LK', 'GH', 'KE', 'NG', 'TZ', 'UG', 'AG', 'AM', 'BS', 'BB', 'BZ', 'BT', 'BW', 'BF', 'CV', 'CW', 'DM', 'FJ', 'GM', 'GE', 'GD', 'GW', 'GY', 'HT', 'JM', 'KI', 'LS', 'LR', 'MW', 'MV', 'ML', 'MH', 'FM', 'NA', 'NR', 'NE', 'PW', 'PG', 'PR', 'WS', 'SM', 'ST', 'SN', 'SC', 'SL', 'SB', 'KN', 'LC', 'VC', 'SR', 'TL', 'TO', 'TT', 'TV', 'VU', 'AZ', 'BN', 'BI', 'KH', 'CM', 'TD', 'KM', 'GQ', 'SZ', 'GA', 'GN', 'KG', 'LA', 'MO', 'MR', 'MN', 'NP', 'RW', 'TG', 'UZ', 'ZW', 'BJ', 'MG', 'MU', 'MZ', 'AO', 'CI', 'DJ', 'ZM', 'CD', 'CG', 'IQ', 'LY', 'TJ', 'VE', 'ET', 'XK'], 'external_urls': {'spotify': 'https://open.spotify.com/album/6UcJJ2rPauLCJLaEzqFvCR'}, 'href': 'https://api.spotify.com/v1/albums/6UcJJ2rPauLCJLaEzqFvCR', 'id': '6UcJJ2rPauLCJLaEzqFvCR', 'images': [{'height': 640, 'url': 'https://i.scdn.co/image/ab67616d0000b273d9d34d00004945f03e6330a0', 'width': 640}, {'height': 300, 'url': 'https://i.scdn.co/image/ab67616d00001e02d9d34d00004945f03e6330a0', 'width': 300}, {'height': 64, 'url': 'https://i.scdn.co/image/ab67616d00004851d9d34d00004945f03e6330a0', 'width': 64}], 'name': 'Overcast', 'release_date': '2021-06-04', 'release_date_precision': 'day', 'total_tracks': 1, 'type': 'album', 'uri': 'spotify:album:6UcJJ2rPauLCJLaEzqFvCR'}, 'artists': [{'external_urls': {'spotify': 'https://open.spotify.com/artist/3xi1oLL4AB1BfQBN9eZA8O'}, 'href': 'https://api.spotify.com/v1/artists/3xi1oLL4AB1BfQBN9eZA8O', 'id': '3xi1oLL4AB1BfQBN9eZA8O', 'name': 'Sylvio', 'type': 'artist', 'uri': 'spotify:artist:3xi1oLL4AB1BfQBN9eZA8O'}], 'available_markets': ['AR', 'AU', 'AT', 'BE', 'BO', 'BR', 'BG', 'CA', 'CL', 'CO', 'CR', 'CY', 'CZ', 'DK', 'DO', 'DE', 'EC', 'EE', 'SV', 'FI', 'FR', 'GR', 'GT', 'HN', 'HK', 'HU', 'IS', 'IE', 'IT', 'LV', 'LT', 'LU', 'MY', 'MT', 'MX', 'NL', 'NZ', 'NI', 'NO', 'PA', 'PY', 'PE', 'PH', 'PL', 'PT', 'SG', 'SK', 'ES', 'SE', 'CH', 'TW', 'TR', 'UY', 'US', 'GB', 'AD', 'LI', 'MC', 'ID', 'JP', 'TH', 'VN', 'RO', 'IL', 'ZA', 'SA', 'AE', 'BH', 'QA', 'OM', 'KW', 'EG', 'MA', 'DZ', 'TN', 'LB', 'JO', 'PS', 'IN', 'BY', 'KZ', 'MD', 'UA', 'AL', 'BA', 'HR', 'ME', 'MK', 'RS', 'SI', 'KR', 'BD', 'PK', 'LK', 'GH', 'KE', 'NG', 'TZ', 'UG', 'AG', 'AM', 'BS', 'BB', 'BZ', 'BT', 'BW', 'BF', 'CV', 'CW', 'DM', 'FJ', 'GM', 'GE', 'GD', 'GW', 'GY', 'HT', 'JM', 'KI', 'LS', 'LR', 'MW', 'MV', 'ML', 'MH', 'FM', 'NA', 'NR', 'NE', 'PW', 'PG', 'PR', 'WS', 'SM', 'ST', 'SN', 'SC', 'SL', 'SB', 'KN', 'LC', 'VC', 'SR', 'TL', 'TO', 'TT', 'TV', 'VU', 'AZ', 'BN', 'BI', 'KH', 'CM', 'TD', 'KM', 'GQ', 'SZ', 'GA', 'GN', 'KG', 'LA', 'MO', 'MR', 'MN', 'NP', 'RW', 'TG', 'UZ', 'ZW', 'BJ', 'MG', 'MU', 'MZ', 'AO', 'CI', 'DJ', 'ZM', 'CD', 'CG', 'IQ', 'LY', 'TJ', 'VE', 'ET', 'XK'], 'disc_number': 1, 'duration_ms': 153500, 'explicit': False, 'external_ids': {'isrc': 'QZHN72117664'}, 'external_urls': {'spotify': 'https://open.spotify.com/track/5ACLrTERL7b7JQd2ZTfMjz'}, 'href': 'https://api.spotify.com/v1/tracks/5ACLrTERL7b7JQd2ZTfMjz', 'id': '5ACLrTERL7b7JQd2ZTfMjz', 'is_local': False, 'name': 'Overcast', 'popularity': 39, 'preview_url': 'https://p.scdn.co/mp3-preview/daaf5cda1ae4e5e4c510e9a7ae1547d51a034ba3?cid=bc87ffdf34f1428995ef0f8e9b127718', 'track_number': 1, 'type': 'track', 'uri': 'spotify:track:5ACLrTERL7b7JQd2ZTfMjz'}\n"
     ]
    }
   ],
   "source": [
    "print(song_data[10])"
   ]
  },
  {
   "cell_type": "code",
   "execution_count": 48,
   "id": "737ad1e1-7a02-4043-8467-e00077bbd17b",
   "metadata": {},
   "outputs": [
    {
     "name": "stdout",
     "output_type": "stream",
     "text": [
      "['spotify:track:7bMX7J7IBzSGDkgshrHH1d', 'spotify:track:3imAwhFGvdTdRkavVADOIK', 'spotify:track:0UdssF0wBtkGmbTvCCEQFZ', 'spotify:track:2n2a7CG0rgXadwWtVXN21F', 'spotify:track:5tvwVu70JA7E2yePrmZGRc', 'spotify:track:0HRMPRU3I85I9fdecngu3u', 'spotify:track:0YLPp1XFg20lsWOiF6kYwm', 'spotify:track:0ky21NS98VPCfAcd6xg7Cc', 'spotify:track:5Y8haFzMI0KcSxYsRqxGv3', 'spotify:track:5nhKTXNuUK9gYaHIfGRSdC', 'spotify:track:5ACLrTERL7b7JQd2ZTfMjz', 'spotify:track:1DB7sjKLuzCoIlSeRulE4Q', 'spotify:track:37aUEdbDjLJtct2sbPRYva', 'spotify:track:35xWgCIhFfnTT0FDLdbaZ1', 'spotify:track:0nkrBnZNJtO6uwdd1tCLS9', 'spotify:track:4JMB7StRYhP9YWrABz5mvv', 'spotify:track:0zgqOEBPOAvU5vch5URzlt', 'spotify:track:45zAJxISzVBR6FOiNDH5FU', 'spotify:track:2e6RYZToDNxzu9LbqiZ9sg', 'spotify:track:7fbwv9Eos2HOiiJPPuPgIs', 'spotify:track:5xr3BZKJdtTC0jBfe5hYTl', 'spotify:track:1FbHpjJjWGwH0pYl9XFiSS', 'spotify:track:3nyhumqc6usMA1R2XH9UK6', 'spotify:track:22FCTP6VHzYcGMpV0rNfMm', 'spotify:track:35Qytbpvjw8rHIqRqoC4WP', 'spotify:track:1Yi5gOH7Rle1motsMbhYmD', 'spotify:track:65o28tObh1bjqkXFaL4anY', 'spotify:track:0M4PcNyGDLhemL0Ro5NeFp', 'spotify:track:2k1nYuxG5fIofU3Glx6N1g', 'spotify:track:10ZZqCt5vg6Bwy5c21OG2z', 'spotify:track:5cYbYemspYYx4VxdTsvKYO', 'spotify:track:5HhaJtn3ilA7rjQHctEI1y', 'spotify:track:4ZdWBoPgg6K5rh6kcACorc', 'spotify:track:2MBsg0dQkiTLwxyfGP6FOQ', 'spotify:track:0wEGo9LsSrSUz9HOtraWAO', 'spotify:track:2wegtiSaM4M8IwlLvruPIE', 'spotify:track:4geJYumRsMrAChwuSWa5yR', 'spotify:track:0WOcJN6rOAsgAFTbnCze4J', 'spotify:track:53Ukh8zhylaXTYACGmbUwF', 'spotify:track:7kcApwUclbIw9B6MuVmqPc', 'spotify:track:44wOFGLyg5EekQtEvP4C4m', 'spotify:track:7JEvphBBcnSXxxAmcTGCpX', 'spotify:track:5joF2jdCM3seyL1NvTenq3', 'spotify:track:4SoC8bNL5qO5ySZsPYqBbm', 'spotify:track:5XlTNfXj1MdnrOXyBdRMj6', 'spotify:track:62KVSMXBfb5U2LxgvVPE4f', 'spotify:track:33ZA2i4Dh28Org2WxZK1eg', 'spotify:track:4k53NT1TxClQ53PL0S323t', 'spotify:track:0VQCLyLm4Rchf7ZV1YMAUJ', 'spotify:track:7a5TX2EdedtHjFp7Zx3weg']\n"
     ]
    }
   ],
   "source": [
    "# uniform resource identifier\n",
    "# i need the URIs for all the searched songs, then I can build my playlist\n",
    "song_uris = []\n",
    "\n",
    "for song in song_data:\n",
    "    song_uris.append(song['uri'])\n",
    "print(song_uris)"
   ]
  },
  {
   "cell_type": "code",
   "execution_count": 49,
   "id": "ac037d0b-10f4-44b5-b358-1c83283bd046",
   "metadata": {},
   "outputs": [],
   "source": [
    "my_playlist = sp.user_playlist_create(user=username, name=forecast, public=True, description=\"songs for the weather\")"
   ]
  },
  {
   "cell_type": "code",
   "execution_count": 40,
   "id": "889b8c36-7e75-4860-8760-64bbbbaee63a",
   "metadata": {},
   "outputs": [
    {
     "name": "stdout",
     "output_type": "stream",
     "text": [
      "{'collaborative': False, 'description': 'songs for the weather', 'external_urls': {'spotify': 'https://open.spotify.com/playlist/41od98qcIWYgxIuSlAWf5U'}, 'followers': {'href': None, 'total': 0}, 'href': 'https://api.spotify.com/v1/playlists/41od98qcIWYgxIuSlAWf5U', 'id': '41od98qcIWYgxIuSlAWf5U', 'images': [], 'primary_color': None, 'name': 'Overcast', 'type': 'playlist', 'uri': 'spotify:playlist:41od98qcIWYgxIuSlAWf5U', 'owner': {'href': 'https://api.spotify.com/v1/users/katsully1', 'id': 'katsully1', 'type': 'user', 'uri': 'spotify:user:katsully1', 'display_name': None, 'external_urls': {'spotify': 'https://open.spotify.com/user/katsully1'}}, 'public': True, 'snapshot_id': 'AAAAxrQwKa99ecWXny418oJ7lkaq/ZUu', 'tracks': {'limit': 100, 'next': None, 'offset': 0, 'previous': None, 'href': 'https://api.spotify.com/v1/playlists/41od98qcIWYgxIuSlAWf5U/tracks', 'total': 0, 'items': []}}\n"
     ]
    }
   ],
   "source": [
    "print(my_playlist)"
   ]
  },
  {
   "cell_type": "code",
   "execution_count": 50,
   "id": "e29d3d15-040d-435e-9a26-978291564368",
   "metadata": {},
   "outputs": [
    {
     "data": {
      "text/plain": [
       "{'snapshot_id': 'AAAAAuhpxm9NCiUV3UC/+LSL9+SJMEET'}"
      ]
     },
     "execution_count": 50,
     "metadata": {},
     "output_type": "execute_result"
    }
   ],
   "source": [
    "# adding all of my songs to an empty playlist (that I just created)\n",
    "sp.user_playlist_add_tracks(username, my_playlist['id'], song_uris)"
   ]
  },
  {
   "cell_type": "code",
   "execution_count": 51,
   "id": "cedfe56c-1a49-43f6-ae07-ea3f8f54cb4b",
   "metadata": {},
   "outputs": [
    {
     "data": {
      "text/plain": [
       "True"
      ]
     },
     "execution_count": 51,
     "metadata": {},
     "output_type": "execute_result"
    }
   ],
   "source": [
    "# open up via the browser\n",
    "webbrowser.open(my_playlist['external_urls']['spotify'])"
   ]
  },
  {
   "cell_type": "code",
   "execution_count": 52,
   "id": "6cc2c452-88c6-4879-8094-b5bd249e9df3",
   "metadata": {},
   "outputs": [],
   "source": [
    "# open via my Spotify app\n",
    "sp.start_playback(device_id=deviceID, context_uri=my_playlist['uri'])"
   ]
  },
  {
   "cell_type": "code",
   "execution_count": null,
   "id": "28ad58ed-2f62-437a-b543-2b1fdcbbb8f5",
   "metadata": {},
   "outputs": [],
   "source": []
  }
 ],
 "metadata": {
  "kernelspec": {
   "display_name": "Python 3 (ipykernel)",
   "language": "python",
   "name": "python3"
  },
  "language_info": {
   "codemirror_mode": {
    "name": "ipython",
    "version": 3
   },
   "file_extension": ".py",
   "mimetype": "text/x-python",
   "name": "python",
   "nbconvert_exporter": "python",
   "pygments_lexer": "ipython3",
   "version": "3.10.6"
  }
 },
 "nbformat": 4,
 "nbformat_minor": 5
}
